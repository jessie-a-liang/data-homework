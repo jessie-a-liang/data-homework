{
 "cells": [
  {
   "cell_type": "code",
   "execution_count": null,
   "id": "29b96df5-a1b9-4330-818b-d4ccc6ae3f8f",
   "metadata": {},
   "outputs": [],
   "source": [
    "# in this version I first tested a few panda functions, \n",
    "# then I tried to make the data easier to work with by editing it in the code rather than excell\n",
    "# I found a function that splits the string up to a certain amount of words and also renames the header. \n",
    "# it created a new column for this instead of replacing the original one\n",
    "# this also caused me to learn about lamba functions which are used to create small annonomus functions.. still trying to fully wrap my head around this\n"
   ]
  },
  {
   "cell_type": "code",
   "execution_count": 257,
   "id": "92d236cf-ce51-48e3-9b9d-9d5dc3584dcf",
   "metadata": {},
   "outputs": [],
   "source": [
    "import pandas as pd\n",
    "import matplotlib.pyplot as plt\n",
    "\n",
    "# find_font = 'C:\\\\Users\\\\Jessie Liang\\\\Creative Code\\\\Class05\\\\venv\\\\Lib\\\\site-packages\\\\matplotlib\\\\mpl-data\\\\fonts\\\\ttf'\n",
    "# plt.rcParams['font.family'] = 'IBMPlexSans-SemiBold'\n",
    "\n",
    "plt.rcParams['font.family'] = 'Monospace'\n",
    "%matplotlib inline"
   ]
  },
  {
   "cell_type": "code",
   "execution_count": 88,
   "id": "e22aa4e0-09f7-498b-a7d4-483018795991",
   "metadata": {},
   "outputs": [],
   "source": [
    "path = \"Responses.csv\"\n",
    "# in the future I would name Responses_df since its a dataframe once read\n",
    "Responses = pd.read_csv(path)"
   ]
  },
  {
   "cell_type": "code",
   "execution_count": 89,
   "id": "ba398639-3df5-4319-b580-d3ca92e8a577",
   "metadata": {},
   "outputs": [
    {
     "data": {
      "text/html": [
       "<div>\n",
       "<style scoped>\n",
       "    .dataframe tbody tr th:only-of-type {\n",
       "        vertical-align: middle;\n",
       "    }\n",
       "\n",
       "    .dataframe tbody tr th {\n",
       "        vertical-align: top;\n",
       "    }\n",
       "\n",
       "    .dataframe thead th {\n",
       "        text-align: right;\n",
       "    }\n",
       "</style>\n",
       "<table border=\"1\" class=\"dataframe\">\n",
       "  <thead>\n",
       "    <tr style=\"text-align: right;\">\n",
       "      <th></th>\n",
       "      <th>Timestamp</th>\n",
       "      <th>The world is ending and everyone on Earth will die for sure. There is a spaceship going to Mars to start a new Earth with limited invite only tickets. You are offered a ticket. Do you:</th>\n",
       "      <th>Would you rather</th>\n",
       "      <th>Wednesday’s noon meeting has been moved forward by two hours. When is the meeting?</th>\n",
       "      <th>You have a deadline coming up and are working alone. How do you manage your time?</th>\n",
       "      <th>Would you rather.1</th>\n",
       "      <th>You have to time travel now. You will not have any of your existing memory once you land. Would you rather go</th>\n",
       "      <th>Do you want to know how you will die</th>\n",
       "      <th>Which class do you prefer</th>\n",
       "      <th>Are you a</th>\n",
       "    </tr>\n",
       "  </thead>\n",
       "  <tbody>\n",
       "    <tr>\n",
       "      <th>0</th>\n",
       "      <td>16/11/2023 11:34:12</td>\n",
       "      <td>Go on the spaceship, at least there is a possi...</td>\n",
       "      <td>Be the founder/leader/boss of a small company/...</td>\n",
       "      <td>2 pm</td>\n",
       "      <td>Work 9 - 5 everyday and do your other activiti...</td>\n",
       "      <td>Explore the deep ocean</td>\n",
       "      <td>Forwards</td>\n",
       "      <td>No</td>\n",
       "      <td>Unreal Engine</td>\n",
       "      <td>Dog person</td>\n",
       "    </tr>\n",
       "    <tr>\n",
       "      <th>1</th>\n",
       "      <td>16/11/2023 11:35:01</td>\n",
       "      <td>Go on the spaceship, at least there is a possi...</td>\n",
       "      <td>Be the founder/leader/boss of a small company/...</td>\n",
       "      <td>10 am</td>\n",
       "      <td>Work different hours everyday and schedule you...</td>\n",
       "      <td>Explore space</td>\n",
       "      <td>Forwards</td>\n",
       "      <td>No</td>\n",
       "      <td>Creative Coding</td>\n",
       "      <td>Dog person</td>\n",
       "    </tr>\n",
       "    <tr>\n",
       "      <th>2</th>\n",
       "      <td>16/11/2023 11:41:00</td>\n",
       "      <td>Stay on Earth and accept your fate</td>\n",
       "      <td>Be a small player in a large company/organization</td>\n",
       "      <td>10 am</td>\n",
       "      <td>Work different hours everyday and schedule you...</td>\n",
       "      <td>Explore space</td>\n",
       "      <td>Forwards</td>\n",
       "      <td>Yes</td>\n",
       "      <td>Unreal Engine</td>\n",
       "      <td>Cat person</td>\n",
       "    </tr>\n",
       "    <tr>\n",
       "      <th>3</th>\n",
       "      <td>16/11/2023 11:48:32</td>\n",
       "      <td>Go on the spaceship, at least there is a possi...</td>\n",
       "      <td>Be the founder/leader/boss of a small company/...</td>\n",
       "      <td>2 pm</td>\n",
       "      <td>Work different hours everyday and schedule you...</td>\n",
       "      <td>Explore space</td>\n",
       "      <td>Forwards</td>\n",
       "      <td>Yes</td>\n",
       "      <td>Creative Coding</td>\n",
       "      <td>Dog person</td>\n",
       "    </tr>\n",
       "    <tr>\n",
       "      <th>4</th>\n",
       "      <td>16/11/2023 11:48:51</td>\n",
       "      <td>Go on the spaceship, at least there is a possi...</td>\n",
       "      <td>Be a small player in a large company/organization</td>\n",
       "      <td>2 pm</td>\n",
       "      <td>Work different hours everyday and schedule you...</td>\n",
       "      <td>Explore space</td>\n",
       "      <td>Forwards</td>\n",
       "      <td>Yes</td>\n",
       "      <td>Unreal Engine</td>\n",
       "      <td>Dog person</td>\n",
       "    </tr>\n",
       "    <tr>\n",
       "      <th>5</th>\n",
       "      <td>16/11/2023 11:57:31</td>\n",
       "      <td>Go on the spaceship, at least there is a possi...</td>\n",
       "      <td>Be the founder/leader/boss of a small company/...</td>\n",
       "      <td>10 am</td>\n",
       "      <td>Work 9 - 5 everyday and do your other activiti...</td>\n",
       "      <td>Explore space</td>\n",
       "      <td>Forwards</td>\n",
       "      <td>No</td>\n",
       "      <td>Creative Coding</td>\n",
       "      <td>Cat person</td>\n",
       "    </tr>\n",
       "    <tr>\n",
       "      <th>6</th>\n",
       "      <td>16/11/2023 12:01:01</td>\n",
       "      <td>Stay on Earth and accept your fate</td>\n",
       "      <td>Be the founder/leader/boss of a small company/...</td>\n",
       "      <td>10 am</td>\n",
       "      <td>Work different hours everyday and schedule you...</td>\n",
       "      <td>Explore space</td>\n",
       "      <td>Backwards</td>\n",
       "      <td>No</td>\n",
       "      <td>Unreal Engine</td>\n",
       "      <td>Dog person</td>\n",
       "    </tr>\n",
       "    <tr>\n",
       "      <th>7</th>\n",
       "      <td>16/11/2023 12:08:04</td>\n",
       "      <td>Stay on Earth and accept your fate</td>\n",
       "      <td>Be a small player in a large company/organization</td>\n",
       "      <td>2 pm</td>\n",
       "      <td>Work different hours everyday and schedule you...</td>\n",
       "      <td>Explore the deep ocean</td>\n",
       "      <td>Forwards</td>\n",
       "      <td>Yes</td>\n",
       "      <td>Unreal Engine</td>\n",
       "      <td>Cat person</td>\n",
       "    </tr>\n",
       "    <tr>\n",
       "      <th>8</th>\n",
       "      <td>16/11/2023 12:21:38</td>\n",
       "      <td>Go on the spaceship, at least there is a possi...</td>\n",
       "      <td>Be the founder/leader/boss of a small company/...</td>\n",
       "      <td>10 am</td>\n",
       "      <td>Work 9 - 5 everyday and do your other activiti...</td>\n",
       "      <td>Explore space</td>\n",
       "      <td>Backwards</td>\n",
       "      <td>No</td>\n",
       "      <td>Unreal Engine</td>\n",
       "      <td>Dog person</td>\n",
       "    </tr>\n",
       "    <tr>\n",
       "      <th>9</th>\n",
       "      <td>16/11/2023 12:28:20</td>\n",
       "      <td>Go on the spaceship, at least there is a possi...</td>\n",
       "      <td>Be the founder/leader/boss of a small company/...</td>\n",
       "      <td>10 am</td>\n",
       "      <td>Work 9 - 5 everyday and do your other activiti...</td>\n",
       "      <td>Explore space</td>\n",
       "      <td>Backwards</td>\n",
       "      <td>No</td>\n",
       "      <td>Unreal Engine</td>\n",
       "      <td>Dog person</td>\n",
       "    </tr>\n",
       "    <tr>\n",
       "      <th>10</th>\n",
       "      <td>16/11/2023 12:35:52</td>\n",
       "      <td>Go on the spaceship, at least there is a possi...</td>\n",
       "      <td>Be the founder/leader/boss of a small company/...</td>\n",
       "      <td>10 am</td>\n",
       "      <td>Work 9 - 5 everyday and do your other activiti...</td>\n",
       "      <td>Explore space</td>\n",
       "      <td>Backwards</td>\n",
       "      <td>No</td>\n",
       "      <td>Unreal Engine</td>\n",
       "      <td>Cat person</td>\n",
       "    </tr>\n",
       "    <tr>\n",
       "      <th>11</th>\n",
       "      <td>16/11/2023 13:33:18</td>\n",
       "      <td>Stay on Earth and accept your fate</td>\n",
       "      <td>Be the founder/leader/boss of a small company/...</td>\n",
       "      <td>10 am</td>\n",
       "      <td>Work 9 - 5 everyday and do your other activiti...</td>\n",
       "      <td>Explore space</td>\n",
       "      <td>Forwards</td>\n",
       "      <td>No</td>\n",
       "      <td>Unreal Engine</td>\n",
       "      <td>Cat person</td>\n",
       "    </tr>\n",
       "    <tr>\n",
       "      <th>12</th>\n",
       "      <td>16/11/2023 15:01:59</td>\n",
       "      <td>Go on the spaceship, at least there is a possi...</td>\n",
       "      <td>Be a small player in a large company/organization</td>\n",
       "      <td>10 am</td>\n",
       "      <td>Work different hours everyday and schedule you...</td>\n",
       "      <td>Explore space</td>\n",
       "      <td>Forwards</td>\n",
       "      <td>No</td>\n",
       "      <td>Creative Coding</td>\n",
       "      <td>Cat person</td>\n",
       "    </tr>\n",
       "  </tbody>\n",
       "</table>\n",
       "</div>"
      ],
      "text/plain": [
       "              Timestamp  \\\n",
       "0   16/11/2023 11:34:12   \n",
       "1   16/11/2023 11:35:01   \n",
       "2   16/11/2023 11:41:00   \n",
       "3   16/11/2023 11:48:32   \n",
       "4   16/11/2023 11:48:51   \n",
       "5   16/11/2023 11:57:31   \n",
       "6   16/11/2023 12:01:01   \n",
       "7   16/11/2023 12:08:04   \n",
       "8   16/11/2023 12:21:38   \n",
       "9   16/11/2023 12:28:20   \n",
       "10  16/11/2023 12:35:52   \n",
       "11  16/11/2023 13:33:18   \n",
       "12  16/11/2023 15:01:59   \n",
       "\n",
       "   The world is ending and everyone on Earth will die for sure. There is a spaceship going to Mars to start a new Earth with limited invite only tickets. You are offered a ticket. Do you:  \\\n",
       "0   Go on the spaceship, at least there is a possi...                                                                                                                                         \n",
       "1   Go on the spaceship, at least there is a possi...                                                                                                                                         \n",
       "2                  Stay on Earth and accept your fate                                                                                                                                         \n",
       "3   Go on the spaceship, at least there is a possi...                                                                                                                                         \n",
       "4   Go on the spaceship, at least there is a possi...                                                                                                                                         \n",
       "5   Go on the spaceship, at least there is a possi...                                                                                                                                         \n",
       "6                  Stay on Earth and accept your fate                                                                                                                                         \n",
       "7                  Stay on Earth and accept your fate                                                                                                                                         \n",
       "8   Go on the spaceship, at least there is a possi...                                                                                                                                         \n",
       "9   Go on the spaceship, at least there is a possi...                                                                                                                                         \n",
       "10  Go on the spaceship, at least there is a possi...                                                                                                                                         \n",
       "11                 Stay on Earth and accept your fate                                                                                                                                         \n",
       "12  Go on the spaceship, at least there is a possi...                                                                                                                                         \n",
       "\n",
       "                                     Would you rather  \\\n",
       "0   Be the founder/leader/boss of a small company/...   \n",
       "1   Be the founder/leader/boss of a small company/...   \n",
       "2   Be a small player in a large company/organization   \n",
       "3   Be the founder/leader/boss of a small company/...   \n",
       "4   Be a small player in a large company/organization   \n",
       "5   Be the founder/leader/boss of a small company/...   \n",
       "6   Be the founder/leader/boss of a small company/...   \n",
       "7   Be a small player in a large company/organization   \n",
       "8   Be the founder/leader/boss of a small company/...   \n",
       "9   Be the founder/leader/boss of a small company/...   \n",
       "10  Be the founder/leader/boss of a small company/...   \n",
       "11  Be the founder/leader/boss of a small company/...   \n",
       "12  Be a small player in a large company/organization   \n",
       "\n",
       "   Wednesday’s noon meeting has been moved forward by two hours. When is the meeting?  \\\n",
       "0                                                2 pm                                   \n",
       "1                                               10 am                                   \n",
       "2                                               10 am                                   \n",
       "3                                                2 pm                                   \n",
       "4                                                2 pm                                   \n",
       "5                                               10 am                                   \n",
       "6                                               10 am                                   \n",
       "7                                                2 pm                                   \n",
       "8                                               10 am                                   \n",
       "9                                               10 am                                   \n",
       "10                                              10 am                                   \n",
       "11                                              10 am                                   \n",
       "12                                              10 am                                   \n",
       "\n",
       "   You have a deadline coming up and are working alone. How do you manage your time?  \\\n",
       "0   Work 9 - 5 everyday and do your other activiti...                                  \n",
       "1   Work different hours everyday and schedule you...                                  \n",
       "2   Work different hours everyday and schedule you...                                  \n",
       "3   Work different hours everyday and schedule you...                                  \n",
       "4   Work different hours everyday and schedule you...                                  \n",
       "5   Work 9 - 5 everyday and do your other activiti...                                  \n",
       "6   Work different hours everyday and schedule you...                                  \n",
       "7   Work different hours everyday and schedule you...                                  \n",
       "8   Work 9 - 5 everyday and do your other activiti...                                  \n",
       "9   Work 9 - 5 everyday and do your other activiti...                                  \n",
       "10  Work 9 - 5 everyday and do your other activiti...                                  \n",
       "11  Work 9 - 5 everyday and do your other activiti...                                  \n",
       "12  Work different hours everyday and schedule you...                                  \n",
       "\n",
       "        Would you rather.1  \\\n",
       "0   Explore the deep ocean   \n",
       "1            Explore space   \n",
       "2            Explore space   \n",
       "3            Explore space   \n",
       "4            Explore space   \n",
       "5            Explore space   \n",
       "6            Explore space   \n",
       "7   Explore the deep ocean   \n",
       "8            Explore space   \n",
       "9            Explore space   \n",
       "10           Explore space   \n",
       "11           Explore space   \n",
       "12           Explore space   \n",
       "\n",
       "   You have to time travel now. You will not have any of your existing memory once you land. Would you rather go  \\\n",
       "0                                            Forwards                                                              \n",
       "1                                            Forwards                                                              \n",
       "2                                            Forwards                                                              \n",
       "3                                            Forwards                                                              \n",
       "4                                            Forwards                                                              \n",
       "5                                            Forwards                                                              \n",
       "6                                           Backwards                                                              \n",
       "7                                            Forwards                                                              \n",
       "8                                           Backwards                                                              \n",
       "9                                           Backwards                                                              \n",
       "10                                          Backwards                                                              \n",
       "11                                           Forwards                                                              \n",
       "12                                           Forwards                                                              \n",
       "\n",
       "   Do you want to know how you will die Which class do you prefer  Are you a   \n",
       "0                                    No             Unreal Engine  Dog person  \n",
       "1                                    No           Creative Coding  Dog person  \n",
       "2                                   Yes             Unreal Engine  Cat person  \n",
       "3                                   Yes           Creative Coding  Dog person  \n",
       "4                                   Yes             Unreal Engine  Dog person  \n",
       "5                                    No           Creative Coding  Cat person  \n",
       "6                                    No             Unreal Engine  Dog person  \n",
       "7                                   Yes             Unreal Engine  Cat person  \n",
       "8                                    No             Unreal Engine  Dog person  \n",
       "9                                    No             Unreal Engine  Dog person  \n",
       "10                                   No             Unreal Engine  Cat person  \n",
       "11                                   No             Unreal Engine  Cat person  \n",
       "12                                   No           Creative Coding  Cat person  "
      ]
     },
     "execution_count": 89,
     "metadata": {},
     "output_type": "execute_result"
    }
   ],
   "source": [
    "Responses"
   ]
  },
  {
   "cell_type": "code",
   "execution_count": 90,
   "id": "9cae3a3e-979b-4cee-9959-3063c66d963c",
   "metadata": {},
   "outputs": [
    {
     "data": {
      "text/plain": [
       "pandas.core.frame.DataFrame"
      ]
     },
     "execution_count": 90,
     "metadata": {},
     "output_type": "execute_result"
    }
   ],
   "source": [
    "type(Responses)"
   ]
  },
  {
   "cell_type": "code",
   "execution_count": 91,
   "id": "b7c6d6ce-b04f-48f8-841b-792d42d083f0",
   "metadata": {},
   "outputs": [
    {
     "data": {
      "text/html": [
       "<div>\n",
       "<style scoped>\n",
       "    .dataframe tbody tr th:only-of-type {\n",
       "        vertical-align: middle;\n",
       "    }\n",
       "\n",
       "    .dataframe tbody tr th {\n",
       "        vertical-align: top;\n",
       "    }\n",
       "\n",
       "    .dataframe thead th {\n",
       "        text-align: right;\n",
       "    }\n",
       "</style>\n",
       "<table border=\"1\" class=\"dataframe\">\n",
       "  <thead>\n",
       "    <tr style=\"text-align: right;\">\n",
       "      <th></th>\n",
       "      <th>Timestamp</th>\n",
       "      <th>The world is ending and everyone on Earth will die for sure. There is a spaceship going to Mars to start a new Earth with limited invite only tickets. You are offered a ticket. Do you:</th>\n",
       "      <th>Would you rather</th>\n",
       "      <th>Wednesday’s noon meeting has been moved forward by two hours. When is the meeting?</th>\n",
       "      <th>You have a deadline coming up and are working alone. How do you manage your time?</th>\n",
       "      <th>Would you rather.1</th>\n",
       "      <th>You have to time travel now. You will not have any of your existing memory once you land. Would you rather go</th>\n",
       "      <th>Do you want to know how you will die</th>\n",
       "      <th>Which class do you prefer</th>\n",
       "      <th>Are you a</th>\n",
       "    </tr>\n",
       "  </thead>\n",
       "  <tbody>\n",
       "    <tr>\n",
       "      <th>0</th>\n",
       "      <td>16/11/2023 11:34:12</td>\n",
       "      <td>Go on the spaceship, at least there is a possi...</td>\n",
       "      <td>Be the founder/leader/boss of a small company/...</td>\n",
       "      <td>2 pm</td>\n",
       "      <td>Work 9 - 5 everyday and do your other activiti...</td>\n",
       "      <td>Explore the deep ocean</td>\n",
       "      <td>Forwards</td>\n",
       "      <td>No</td>\n",
       "      <td>Unreal Engine</td>\n",
       "      <td>Dog person</td>\n",
       "    </tr>\n",
       "    <tr>\n",
       "      <th>1</th>\n",
       "      <td>16/11/2023 11:35:01</td>\n",
       "      <td>Go on the spaceship, at least there is a possi...</td>\n",
       "      <td>Be the founder/leader/boss of a small company/...</td>\n",
       "      <td>10 am</td>\n",
       "      <td>Work different hours everyday and schedule you...</td>\n",
       "      <td>Explore space</td>\n",
       "      <td>Forwards</td>\n",
       "      <td>No</td>\n",
       "      <td>Creative Coding</td>\n",
       "      <td>Dog person</td>\n",
       "    </tr>\n",
       "    <tr>\n",
       "      <th>2</th>\n",
       "      <td>16/11/2023 11:41:00</td>\n",
       "      <td>Stay on Earth and accept your fate</td>\n",
       "      <td>Be a small player in a large company/organization</td>\n",
       "      <td>10 am</td>\n",
       "      <td>Work different hours everyday and schedule you...</td>\n",
       "      <td>Explore space</td>\n",
       "      <td>Forwards</td>\n",
       "      <td>Yes</td>\n",
       "      <td>Unreal Engine</td>\n",
       "      <td>Cat person</td>\n",
       "    </tr>\n",
       "    <tr>\n",
       "      <th>3</th>\n",
       "      <td>16/11/2023 11:48:32</td>\n",
       "      <td>Go on the spaceship, at least there is a possi...</td>\n",
       "      <td>Be the founder/leader/boss of a small company/...</td>\n",
       "      <td>2 pm</td>\n",
       "      <td>Work different hours everyday and schedule you...</td>\n",
       "      <td>Explore space</td>\n",
       "      <td>Forwards</td>\n",
       "      <td>Yes</td>\n",
       "      <td>Creative Coding</td>\n",
       "      <td>Dog person</td>\n",
       "    </tr>\n",
       "    <tr>\n",
       "      <th>4</th>\n",
       "      <td>16/11/2023 11:48:51</td>\n",
       "      <td>Go on the spaceship, at least there is a possi...</td>\n",
       "      <td>Be a small player in a large company/organization</td>\n",
       "      <td>2 pm</td>\n",
       "      <td>Work different hours everyday and schedule you...</td>\n",
       "      <td>Explore space</td>\n",
       "      <td>Forwards</td>\n",
       "      <td>Yes</td>\n",
       "      <td>Unreal Engine</td>\n",
       "      <td>Dog person</td>\n",
       "    </tr>\n",
       "    <tr>\n",
       "      <th>5</th>\n",
       "      <td>16/11/2023 11:57:31</td>\n",
       "      <td>Go on the spaceship, at least there is a possi...</td>\n",
       "      <td>Be the founder/leader/boss of a small company/...</td>\n",
       "      <td>10 am</td>\n",
       "      <td>Work 9 - 5 everyday and do your other activiti...</td>\n",
       "      <td>Explore space</td>\n",
       "      <td>Forwards</td>\n",
       "      <td>No</td>\n",
       "      <td>Creative Coding</td>\n",
       "      <td>Cat person</td>\n",
       "    </tr>\n",
       "    <tr>\n",
       "      <th>6</th>\n",
       "      <td>16/11/2023 12:01:01</td>\n",
       "      <td>Stay on Earth and accept your fate</td>\n",
       "      <td>Be the founder/leader/boss of a small company/...</td>\n",
       "      <td>10 am</td>\n",
       "      <td>Work different hours everyday and schedule you...</td>\n",
       "      <td>Explore space</td>\n",
       "      <td>Backwards</td>\n",
       "      <td>No</td>\n",
       "      <td>Unreal Engine</td>\n",
       "      <td>Dog person</td>\n",
       "    </tr>\n",
       "    <tr>\n",
       "      <th>7</th>\n",
       "      <td>16/11/2023 12:08:04</td>\n",
       "      <td>Stay on Earth and accept your fate</td>\n",
       "      <td>Be a small player in a large company/organization</td>\n",
       "      <td>2 pm</td>\n",
       "      <td>Work different hours everyday and schedule you...</td>\n",
       "      <td>Explore the deep ocean</td>\n",
       "      <td>Forwards</td>\n",
       "      <td>Yes</td>\n",
       "      <td>Unreal Engine</td>\n",
       "      <td>Cat person</td>\n",
       "    </tr>\n",
       "    <tr>\n",
       "      <th>8</th>\n",
       "      <td>16/11/2023 12:21:38</td>\n",
       "      <td>Go on the spaceship, at least there is a possi...</td>\n",
       "      <td>Be the founder/leader/boss of a small company/...</td>\n",
       "      <td>10 am</td>\n",
       "      <td>Work 9 - 5 everyday and do your other activiti...</td>\n",
       "      <td>Explore space</td>\n",
       "      <td>Backwards</td>\n",
       "      <td>No</td>\n",
       "      <td>Unreal Engine</td>\n",
       "      <td>Dog person</td>\n",
       "    </tr>\n",
       "  </tbody>\n",
       "</table>\n",
       "</div>"
      ],
      "text/plain": [
       "             Timestamp  \\\n",
       "0  16/11/2023 11:34:12   \n",
       "1  16/11/2023 11:35:01   \n",
       "2  16/11/2023 11:41:00   \n",
       "3  16/11/2023 11:48:32   \n",
       "4  16/11/2023 11:48:51   \n",
       "5  16/11/2023 11:57:31   \n",
       "6  16/11/2023 12:01:01   \n",
       "7  16/11/2023 12:08:04   \n",
       "8  16/11/2023 12:21:38   \n",
       "\n",
       "  The world is ending and everyone on Earth will die for sure. There is a spaceship going to Mars to start a new Earth with limited invite only tickets. You are offered a ticket. Do you:  \\\n",
       "0  Go on the spaceship, at least there is a possi...                                                                                                                                         \n",
       "1  Go on the spaceship, at least there is a possi...                                                                                                                                         \n",
       "2                 Stay on Earth and accept your fate                                                                                                                                         \n",
       "3  Go on the spaceship, at least there is a possi...                                                                                                                                         \n",
       "4  Go on the spaceship, at least there is a possi...                                                                                                                                         \n",
       "5  Go on the spaceship, at least there is a possi...                                                                                                                                         \n",
       "6                 Stay on Earth and accept your fate                                                                                                                                         \n",
       "7                 Stay on Earth and accept your fate                                                                                                                                         \n",
       "8  Go on the spaceship, at least there is a possi...                                                                                                                                         \n",
       "\n",
       "                                    Would you rather  \\\n",
       "0  Be the founder/leader/boss of a small company/...   \n",
       "1  Be the founder/leader/boss of a small company/...   \n",
       "2  Be a small player in a large company/organization   \n",
       "3  Be the founder/leader/boss of a small company/...   \n",
       "4  Be a small player in a large company/organization   \n",
       "5  Be the founder/leader/boss of a small company/...   \n",
       "6  Be the founder/leader/boss of a small company/...   \n",
       "7  Be a small player in a large company/organization   \n",
       "8  Be the founder/leader/boss of a small company/...   \n",
       "\n",
       "  Wednesday’s noon meeting has been moved forward by two hours. When is the meeting?  \\\n",
       "0                                               2 pm                                   \n",
       "1                                              10 am                                   \n",
       "2                                              10 am                                   \n",
       "3                                               2 pm                                   \n",
       "4                                               2 pm                                   \n",
       "5                                              10 am                                   \n",
       "6                                              10 am                                   \n",
       "7                                               2 pm                                   \n",
       "8                                              10 am                                   \n",
       "\n",
       "  You have a deadline coming up and are working alone. How do you manage your time?  \\\n",
       "0  Work 9 - 5 everyday and do your other activiti...                                  \n",
       "1  Work different hours everyday and schedule you...                                  \n",
       "2  Work different hours everyday and schedule you...                                  \n",
       "3  Work different hours everyday and schedule you...                                  \n",
       "4  Work different hours everyday and schedule you...                                  \n",
       "5  Work 9 - 5 everyday and do your other activiti...                                  \n",
       "6  Work different hours everyday and schedule you...                                  \n",
       "7  Work different hours everyday and schedule you...                                  \n",
       "8  Work 9 - 5 everyday and do your other activiti...                                  \n",
       "\n",
       "       Would you rather.1  \\\n",
       "0  Explore the deep ocean   \n",
       "1           Explore space   \n",
       "2           Explore space   \n",
       "3           Explore space   \n",
       "4           Explore space   \n",
       "5           Explore space   \n",
       "6           Explore space   \n",
       "7  Explore the deep ocean   \n",
       "8           Explore space   \n",
       "\n",
       "  You have to time travel now. You will not have any of your existing memory once you land. Would you rather go  \\\n",
       "0                                           Forwards                                                              \n",
       "1                                           Forwards                                                              \n",
       "2                                           Forwards                                                              \n",
       "3                                           Forwards                                                              \n",
       "4                                           Forwards                                                              \n",
       "5                                           Forwards                                                              \n",
       "6                                          Backwards                                                              \n",
       "7                                           Forwards                                                              \n",
       "8                                          Backwards                                                              \n",
       "\n",
       "  Do you want to know how you will die Which class do you prefer  Are you a   \n",
       "0                                   No             Unreal Engine  Dog person  \n",
       "1                                   No           Creative Coding  Dog person  \n",
       "2                                  Yes             Unreal Engine  Cat person  \n",
       "3                                  Yes           Creative Coding  Dog person  \n",
       "4                                  Yes             Unreal Engine  Dog person  \n",
       "5                                   No           Creative Coding  Cat person  \n",
       "6                                   No             Unreal Engine  Dog person  \n",
       "7                                  Yes             Unreal Engine  Cat person  \n",
       "8                                   No             Unreal Engine  Dog person  "
      ]
     },
     "execution_count": 91,
     "metadata": {},
     "output_type": "execute_result"
    }
   ],
   "source": [
    "Responses.head(9)"
   ]
  },
  {
   "cell_type": "code",
   "execution_count": 283,
   "id": "75c79e6c-666b-4960-9398-06b8ff4a9637",
   "metadata": {},
   "outputs": [],
   "source": [
    "# Responses.value_counts()"
   ]
  },
  {
   "cell_type": "code",
   "execution_count": 282,
   "id": "17ead566-9550-4558-9525-d9d83b8f586d",
   "metadata": {},
   "outputs": [],
   "source": [
    "# Responses.value_counts"
   ]
  },
  {
   "cell_type": "code",
   "execution_count": 96,
   "id": "72645662-4861-4ff8-a392-57dc2f78d1f9",
   "metadata": {},
   "outputs": [],
   "source": [
    "# trying to make data easier to work with without going into the csv file\n",
    "Responses['SpaceEarth'] = Responses['The world is ending and everyone on Earth will die for sure. There is a spaceship going to Mars to start a new Earth with limited invite only tickets. You are offered a ticket. Do you:'].apply(lambda x: ' '.join(x.split()[:1]))"
   ]
  },
  {
   "cell_type": "code",
   "execution_count": 97,
   "id": "ca77bea4-2333-4d61-8d3e-73c30a8a7013",
   "metadata": {
    "scrolled": true
   },
   "outputs": [
    {
     "data": {
      "text/html": [
       "<div>\n",
       "<style scoped>\n",
       "    .dataframe tbody tr th:only-of-type {\n",
       "        vertical-align: middle;\n",
       "    }\n",
       "\n",
       "    .dataframe tbody tr th {\n",
       "        vertical-align: top;\n",
       "    }\n",
       "\n",
       "    .dataframe thead th {\n",
       "        text-align: right;\n",
       "    }\n",
       "</style>\n",
       "<table border=\"1\" class=\"dataframe\">\n",
       "  <thead>\n",
       "    <tr style=\"text-align: right;\">\n",
       "      <th></th>\n",
       "      <th>Timestamp</th>\n",
       "      <th>The world is ending and everyone on Earth will die for sure. There is a spaceship going to Mars to start a new Earth with limited invite only tickets. You are offered a ticket. Do you:</th>\n",
       "      <th>Would you rather</th>\n",
       "      <th>Wednesday’s noon meeting has been moved forward by two hours. When is the meeting?</th>\n",
       "      <th>You have a deadline coming up and are working alone. How do you manage your time?</th>\n",
       "      <th>Would you rather.1</th>\n",
       "      <th>You have to time travel now. You will not have any of your existing memory once you land. Would you rather go</th>\n",
       "      <th>Do you want to know how you will die</th>\n",
       "      <th>Which class do you prefer</th>\n",
       "      <th>Are you a</th>\n",
       "      <th>SpaceEarth</th>\n",
       "    </tr>\n",
       "  </thead>\n",
       "  <tbody>\n",
       "    <tr>\n",
       "      <th>0</th>\n",
       "      <td>16/11/2023 11:34:12</td>\n",
       "      <td>Go on the spaceship, at least there is a possi...</td>\n",
       "      <td>Be the founder/leader/boss of a small company/...</td>\n",
       "      <td>2 pm</td>\n",
       "      <td>Work 9 - 5 everyday and do your other activiti...</td>\n",
       "      <td>Explore the deep ocean</td>\n",
       "      <td>Forwards</td>\n",
       "      <td>No</td>\n",
       "      <td>Unreal Engine</td>\n",
       "      <td>Dog person</td>\n",
       "      <td>Go</td>\n",
       "    </tr>\n",
       "    <tr>\n",
       "      <th>1</th>\n",
       "      <td>16/11/2023 11:35:01</td>\n",
       "      <td>Go on the spaceship, at least there is a possi...</td>\n",
       "      <td>Be the founder/leader/boss of a small company/...</td>\n",
       "      <td>10 am</td>\n",
       "      <td>Work different hours everyday and schedule you...</td>\n",
       "      <td>Explore space</td>\n",
       "      <td>Forwards</td>\n",
       "      <td>No</td>\n",
       "      <td>Creative Coding</td>\n",
       "      <td>Dog person</td>\n",
       "      <td>Go</td>\n",
       "    </tr>\n",
       "    <tr>\n",
       "      <th>2</th>\n",
       "      <td>16/11/2023 11:41:00</td>\n",
       "      <td>Stay on Earth and accept your fate</td>\n",
       "      <td>Be a small player in a large company/organization</td>\n",
       "      <td>10 am</td>\n",
       "      <td>Work different hours everyday and schedule you...</td>\n",
       "      <td>Explore space</td>\n",
       "      <td>Forwards</td>\n",
       "      <td>Yes</td>\n",
       "      <td>Unreal Engine</td>\n",
       "      <td>Cat person</td>\n",
       "      <td>Stay</td>\n",
       "    </tr>\n",
       "    <tr>\n",
       "      <th>3</th>\n",
       "      <td>16/11/2023 11:48:32</td>\n",
       "      <td>Go on the spaceship, at least there is a possi...</td>\n",
       "      <td>Be the founder/leader/boss of a small company/...</td>\n",
       "      <td>2 pm</td>\n",
       "      <td>Work different hours everyday and schedule you...</td>\n",
       "      <td>Explore space</td>\n",
       "      <td>Forwards</td>\n",
       "      <td>Yes</td>\n",
       "      <td>Creative Coding</td>\n",
       "      <td>Dog person</td>\n",
       "      <td>Go</td>\n",
       "    </tr>\n",
       "    <tr>\n",
       "      <th>4</th>\n",
       "      <td>16/11/2023 11:48:51</td>\n",
       "      <td>Go on the spaceship, at least there is a possi...</td>\n",
       "      <td>Be a small player in a large company/organization</td>\n",
       "      <td>2 pm</td>\n",
       "      <td>Work different hours everyday and schedule you...</td>\n",
       "      <td>Explore space</td>\n",
       "      <td>Forwards</td>\n",
       "      <td>Yes</td>\n",
       "      <td>Unreal Engine</td>\n",
       "      <td>Dog person</td>\n",
       "      <td>Go</td>\n",
       "    </tr>\n",
       "  </tbody>\n",
       "</table>\n",
       "</div>"
      ],
      "text/plain": [
       "             Timestamp  \\\n",
       "0  16/11/2023 11:34:12   \n",
       "1  16/11/2023 11:35:01   \n",
       "2  16/11/2023 11:41:00   \n",
       "3  16/11/2023 11:48:32   \n",
       "4  16/11/2023 11:48:51   \n",
       "\n",
       "  The world is ending and everyone on Earth will die for sure. There is a spaceship going to Mars to start a new Earth with limited invite only tickets. You are offered a ticket. Do you:  \\\n",
       "0  Go on the spaceship, at least there is a possi...                                                                                                                                         \n",
       "1  Go on the spaceship, at least there is a possi...                                                                                                                                         \n",
       "2                 Stay on Earth and accept your fate                                                                                                                                         \n",
       "3  Go on the spaceship, at least there is a possi...                                                                                                                                         \n",
       "4  Go on the spaceship, at least there is a possi...                                                                                                                                         \n",
       "\n",
       "                                    Would you rather  \\\n",
       "0  Be the founder/leader/boss of a small company/...   \n",
       "1  Be the founder/leader/boss of a small company/...   \n",
       "2  Be a small player in a large company/organization   \n",
       "3  Be the founder/leader/boss of a small company/...   \n",
       "4  Be a small player in a large company/organization   \n",
       "\n",
       "  Wednesday’s noon meeting has been moved forward by two hours. When is the meeting?  \\\n",
       "0                                               2 pm                                   \n",
       "1                                              10 am                                   \n",
       "2                                              10 am                                   \n",
       "3                                               2 pm                                   \n",
       "4                                               2 pm                                   \n",
       "\n",
       "  You have a deadline coming up and are working alone. How do you manage your time?  \\\n",
       "0  Work 9 - 5 everyday and do your other activiti...                                  \n",
       "1  Work different hours everyday and schedule you...                                  \n",
       "2  Work different hours everyday and schedule you...                                  \n",
       "3  Work different hours everyday and schedule you...                                  \n",
       "4  Work different hours everyday and schedule you...                                  \n",
       "\n",
       "       Would you rather.1  \\\n",
       "0  Explore the deep ocean   \n",
       "1           Explore space   \n",
       "2           Explore space   \n",
       "3           Explore space   \n",
       "4           Explore space   \n",
       "\n",
       "  You have to time travel now. You will not have any of your existing memory once you land. Would you rather go  \\\n",
       "0                                           Forwards                                                              \n",
       "1                                           Forwards                                                              \n",
       "2                                           Forwards                                                              \n",
       "3                                           Forwards                                                              \n",
       "4                                           Forwards                                                              \n",
       "\n",
       "  Do you want to know how you will die Which class do you prefer  Are you a   \\\n",
       "0                                   No             Unreal Engine  Dog person   \n",
       "1                                   No           Creative Coding  Dog person   \n",
       "2                                  Yes             Unreal Engine  Cat person   \n",
       "3                                  Yes           Creative Coding  Dog person   \n",
       "4                                  Yes             Unreal Engine  Dog person   \n",
       "\n",
       "  SpaceEarth  \n",
       "0         Go  \n",
       "1         Go  \n",
       "2       Stay  \n",
       "3         Go  \n",
       "4         Go  "
      ]
     },
     "execution_count": 97,
     "metadata": {},
     "output_type": "execute_result"
    }
   ],
   "source": [
    "# made a new column at the end instead of amending\n",
    "Responses.head(5)"
   ]
  },
  {
   "cell_type": "code",
   "execution_count": 98,
   "id": "49bda0a1-f47f-4203-aba8-a8d5e20872ff",
   "metadata": {},
   "outputs": [
    {
     "data": {
      "text/plain": [
       "0       Go\n",
       "1       Go\n",
       "2     Stay\n",
       "3       Go\n",
       "4       Go\n",
       "5       Go\n",
       "6     Stay\n",
       "7     Stay\n",
       "8       Go\n",
       "9       Go\n",
       "10      Go\n",
       "11    Stay\n",
       "12      Go\n",
       "Name: SpaceEarth, dtype: object"
      ]
     },
     "execution_count": 98,
     "metadata": {},
     "output_type": "execute_result"
    }
   ],
   "source": [
    "Responses.SpaceEarth"
   ]
  },
  {
   "cell_type": "code",
   "execution_count": 99,
   "id": "f20413c3-3165-4521-909b-fa5a525aaae7",
   "metadata": {},
   "outputs": [
    {
     "data": {
      "text/plain": [
       "0     False\n",
       "1     False\n",
       "2      True\n",
       "3     False\n",
       "4     False\n",
       "5     False\n",
       "6      True\n",
       "7      True\n",
       "8     False\n",
       "9     False\n",
       "10    False\n",
       "11     True\n",
       "12    False\n",
       "Name: SpaceEarth, dtype: bool"
      ]
     },
     "execution_count": 99,
     "metadata": {},
     "output_type": "execute_result"
    }
   ],
   "source": [
    "Responses.SpaceEarth == \"Stay\""
   ]
  },
  {
   "cell_type": "code",
   "execution_count": 284,
   "id": "6b88dffe-6197-4491-ba91-de002c77735e",
   "metadata": {},
   "outputs": [],
   "source": [
    "# get number of Stay responses, didnt work\n",
    "# (Responses.SpaceEarth == \"Stay\").count()"
   ]
  },
  {
   "cell_type": "code",
   "execution_count": 285,
   "id": "4db86558-fb95-48d3-b00c-014b6f063c36",
   "metadata": {},
   "outputs": [],
   "source": [
    "# get number of Stay responses, didnt work\n",
    "# (Responses.SpaceEarth == \"Go\").count()"
   ]
  },
  {
   "cell_type": "code",
   "execution_count": 286,
   "id": "a590f835-ecce-4daa-b9e4-9439eb76b49b",
   "metadata": {},
   "outputs": [],
   "source": [
    "# get number of Stay responses, didnt work\n",
    "# (Responses.SpaceEarth == \"Stay\").count()[True]"
   ]
  },
  {
   "cell_type": "code",
   "execution_count": 287,
   "id": "542cc754-d1d9-4a06-b58d-3f1b4468a0c9",
   "metadata": {},
   "outputs": [
    {
     "data": {
      "text/plain": [
       "SpaceEarth\n",
       "Go      9\n",
       "Stay    4\n",
       "Name: count, dtype: int64"
      ]
     },
     "execution_count": 287,
     "metadata": {},
     "output_type": "execute_result"
    }
   ],
   "source": [
    "# kinda worked, gave me both\n",
    "Responses.SpaceEarth.value_counts()"
   ]
  },
  {
   "cell_type": "code",
   "execution_count": 104,
   "id": "ca3b2ac0-d890-4678-bf43-fd3e0ea273da",
   "metadata": {},
   "outputs": [
    {
     "data": {
      "text/plain": [
       "13"
      ]
     },
     "execution_count": 104,
     "metadata": {},
     "output_type": "execute_result"
    }
   ],
   "source": [
    "# len(Responses)"
   ]
  },
  {
   "cell_type": "code",
   "execution_count": 105,
   "id": "57a905d4-e2fe-47c8-9e17-dca634c53d8f",
   "metadata": {},
   "outputs": [
    {
     "data": {
      "text/plain": [
       "False"
      ]
     },
     "execution_count": 105,
     "metadata": {},
     "output_type": "execute_result"
    }
   ],
   "source": [
    "# see if everyone responsed to my survey \n",
    "len(Responses) == 17"
   ]
  },
  {
   "cell_type": "code",
   "execution_count": 106,
   "id": "06769dfc-5398-4de5-a564-bcd8a82cfb37",
   "metadata": {},
   "outputs": [
    {
     "name": "stdout",
     "output_type": "stream",
     "text": [
      "\n",
      "    \n",
      "           ⣠⡭⠥⠐⠒⠒⠒⠒⠂⠤⢤⣀⠀⠀⠀⠀⠀⠀⠀⠀⠀\n",
      "⠀⠀⠀⠀⠀⢀⣤⠖⠋⠁⠀⠀⠀⠀⠀⠀⠀⠀⠀⠀⠈⠙⠲⣤⡀⠀⠀⠀⠀⠀\n",
      "⠀⠀⠀⢀⡴⠋⠀⠀⠀⠀⠀⠀⠀⠀⠀⠀⠀⠀⠀⠀⠀⠀⠀⠈⠙⢦⡀⠀⠀⠀\n",
      "⠀⠀⢠⠟⠀⠀⠀⠀⠀⣠⣤⣤⡀⠀⠀⠀⠀⠀⣤⣤⣄⠀⠀⠀⠀⠈⠻⡄⠀⠀\n",
      "⠀⣠⠋⠀⠀⠀⠀⠀⠀⣿⣿⣿⣧⠀⠀⠀⠀⣼⣿⣿⣿⠀⠀⠀⠀⠀⠀⠹⣄⠀\n",
      "⠀⡏⠀⠀⠀⠀⠀⠀⠀⣿⣿⣿⡟⠀⠀⠀⠀⢻⣿⣿⣿⠇⠀⠀⠀⠀⠀⠀⢹⠀\n",
      "⢰⠀⠀⠀⠀⠀⠀⠀⠀⠙⠛⠛⠀⠀⠀⠀⠀⠀⠛⠛⠋⠀⠀⠀⠀⠀⠀⠀⠀⡆\n",
      "⢸⠀⠀⠀⠀⠀⠀⠀⠀⠀⠀⣀⣠⣤⣤⣤⣤⣄⣀⠀⠀⠀⠀⠀⠀⠀⠀⠀⠀⡇\n",
      "⠸⠀⠀⠀⠀⠀⠀⠀⣠⣴⡿⠟⠛⠋⠉⠉⠙⠛⠻⢷⣦⣄⠀⠀⠀⠀⠀⠀⠀⠇\n",
      "⠀⣇⠀⠀⠀⠀⢀⣼⠟⠉⠀⠀⠀⠀⠀⠀⠀⠀⠀⠀⠉⠻⣷⡀⠀⠀⠀⠀⣸⠀\n",
      "⠀⠘⣆⠀⠒⠲⣾⡃⠀⠀⠀⠀⠀⠀⠀⠀⠀⠀⠀⠀⠀⠀⢘⡷⠖⠒⠀⣰⠃⠀\n",
      "⠀⠀⠘⣦⡀⠀⠈⠳⠀⠀⠀⠀⠀⠀⠀⠀⠀⠀⠀⠀⠀⠀⠺⠁⠀⠀⣴⠃⠀⠀\n",
      "⠀⠀⠀⠈⠳⣄⠀⠀⠀⠀⠀⠀⠀⠀⠀⠀⠀⠀⠀⠀⠀⠀⠀⠀⣠⠞⠁⠀⠀⠀\n",
      "⠀⠀⠀⠀⠀⠈⠛⠦⣄⡀⠀⠀⠀⠀⠀⠀⠀⠀⠀⠀⢀⣠⠴⠛⠁⠀⠀⠀⠀⠀\n",
      "⠀⠀⠀⠀⠀⠀⠀⠀⠀⠉⠓⠒⠠⠤⠤⠤⠤⠄⠒⠚⠉⠀⠀⠀⠀⠀⠀⠀⠀⠀\n"
     ]
    }
   ],
   "source": [
    "# they did not :(\n",
    "if len(Responses) != 17:\n",
    "    print('''\n",
    "    \n",
    "           ⣠⡭⠥⠐⠒⠒⠒⠒⠂⠤⢤⣀⠀⠀⠀⠀⠀⠀⠀⠀⠀\n",
    "⠀⠀⠀⠀⠀⢀⣤⠖⠋⠁⠀⠀⠀⠀⠀⠀⠀⠀⠀⠀⠈⠙⠲⣤⡀⠀⠀⠀⠀⠀\n",
    "⠀⠀⠀⢀⡴⠋⠀⠀⠀⠀⠀⠀⠀⠀⠀⠀⠀⠀⠀⠀⠀⠀⠀⠈⠙⢦⡀⠀⠀⠀\n",
    "⠀⠀⢠⠟⠀⠀⠀⠀⠀⣠⣤⣤⡀⠀⠀⠀⠀⠀⣤⣤⣄⠀⠀⠀⠀⠈⠻⡄⠀⠀\n",
    "⠀⣠⠋⠀⠀⠀⠀⠀⠀⣿⣿⣿⣧⠀⠀⠀⠀⣼⣿⣿⣿⠀⠀⠀⠀⠀⠀⠹⣄⠀\n",
    "⠀⡏⠀⠀⠀⠀⠀⠀⠀⣿⣿⣿⡟⠀⠀⠀⠀⢻⣿⣿⣿⠇⠀⠀⠀⠀⠀⠀⢹⠀\n",
    "⢰⠀⠀⠀⠀⠀⠀⠀⠀⠙⠛⠛⠀⠀⠀⠀⠀⠀⠛⠛⠋⠀⠀⠀⠀⠀⠀⠀⠀⡆\n",
    "⢸⠀⠀⠀⠀⠀⠀⠀⠀⠀⠀⣀⣠⣤⣤⣤⣤⣄⣀⠀⠀⠀⠀⠀⠀⠀⠀⠀⠀⡇\n",
    "⠸⠀⠀⠀⠀⠀⠀⠀⣠⣴⡿⠟⠛⠋⠉⠉⠙⠛⠻⢷⣦⣄⠀⠀⠀⠀⠀⠀⠀⠇\n",
    "⠀⣇⠀⠀⠀⠀⢀⣼⠟⠉⠀⠀⠀⠀⠀⠀⠀⠀⠀⠀⠉⠻⣷⡀⠀⠀⠀⠀⣸⠀\n",
    "⠀⠘⣆⠀⠒⠲⣾⡃⠀⠀⠀⠀⠀⠀⠀⠀⠀⠀⠀⠀⠀⠀⢘⡷⠖⠒⠀⣰⠃⠀\n",
    "⠀⠀⠘⣦⡀⠀⠈⠳⠀⠀⠀⠀⠀⠀⠀⠀⠀⠀⠀⠀⠀⠀⠺⠁⠀⠀⣴⠃⠀⠀\n",
    "⠀⠀⠀⠈⠳⣄⠀⠀⠀⠀⠀⠀⠀⠀⠀⠀⠀⠀⠀⠀⠀⠀⠀⠀⣠⠞⠁⠀⠀⠀\n",
    "⠀⠀⠀⠀⠀⠈⠛⠦⣄⡀⠀⠀⠀⠀⠀⠀⠀⠀⠀⠀⢀⣠⠴⠛⠁⠀⠀⠀⠀⠀\n",
    "⠀⠀⠀⠀⠀⠀⠀⠀⠀⠉⠓⠒⠠⠤⠤⠤⠤⠄⠒⠚⠉⠀⠀⠀⠀⠀⠀⠀⠀⠀''')"
   ]
  },
  {
   "cell_type": "code",
   "execution_count": 107,
   "id": "e864c147-d318-496f-9be6-1b65d83b5592",
   "metadata": {},
   "outputs": [],
   "source": [
    "Responses['SmlOrgLrgOrg'] = Responses['Would you rather'].apply(lambda x: ' '.join(x.split()[:1]))"
   ]
  },
  {
   "cell_type": "code",
   "execution_count": 108,
   "id": "150818b3-0af2-49ef-bb10-c073d96b9908",
   "metadata": {},
   "outputs": [
    {
     "data": {
      "text/plain": [
       "0     Be\n",
       "1     Be\n",
       "2     Be\n",
       "3     Be\n",
       "4     Be\n",
       "5     Be\n",
       "6     Be\n",
       "7     Be\n",
       "8     Be\n",
       "9     Be\n",
       "10    Be\n",
       "11    Be\n",
       "12    Be\n",
       "Name: SmlOrgLrgOrg, dtype: object"
      ]
     },
     "execution_count": 108,
     "metadata": {},
     "output_type": "execute_result"
    }
   ],
   "source": [
    "# Why did write the responses like that lol\n",
    "Responses.SmlOrgLrgOrg"
   ]
  },
  {
   "cell_type": "code",
   "execution_count": 109,
   "id": "048a1152-6852-432e-a876-685a2de55280",
   "metadata": {},
   "outputs": [],
   "source": [
    "Responses['SmlOrgLrgOrg'] = Responses['Would you rather'].apply(lambda x: ' '.join(x.split()[:6]))"
   ]
  },
  {
   "cell_type": "code",
   "execution_count": 110,
   "id": "ce8631f1-a2c2-46a7-88cf-041485b7eb1b",
   "metadata": {},
   "outputs": [
    {
     "data": {
      "text/plain": [
       "0     Be the founder/leader/boss of a small\n",
       "1     Be the founder/leader/boss of a small\n",
       "2                    Be a small player in a\n",
       "3     Be the founder/leader/boss of a small\n",
       "4                    Be a small player in a\n",
       "5     Be the founder/leader/boss of a small\n",
       "6     Be the founder/leader/boss of a small\n",
       "7                    Be a small player in a\n",
       "8     Be the founder/leader/boss of a small\n",
       "9     Be the founder/leader/boss of a small\n",
       "10    Be the founder/leader/boss of a small\n",
       "11    Be the founder/leader/boss of a small\n",
       "12                   Be a small player in a\n",
       "Name: SmlOrgLrgOrg, dtype: object"
      ]
     },
     "execution_count": 110,
     "metadata": {},
     "output_type": "execute_result"
    }
   ],
   "source": [
    "Responses.SmlOrgLrgOrg"
   ]
  },
  {
   "cell_type": "code",
   "execution_count": 111,
   "id": "e520c86e-1170-43ab-a101-9a4783df34f0",
   "metadata": {},
   "outputs": [],
   "source": [
    "Responses['SmlOrgLrgOrg'] = Responses['Would you rather'].apply(lambda x: ' '.join(x.split()[:3]))"
   ]
  },
  {
   "cell_type": "code",
   "execution_count": 112,
   "id": "f54a9d8b-d768-4e32-af18-e64d2c4342bc",
   "metadata": {},
   "outputs": [
    {
     "data": {
      "text/plain": [
       "0     Be the founder/leader/boss\n",
       "1     Be the founder/leader/boss\n",
       "2                     Be a small\n",
       "3     Be the founder/leader/boss\n",
       "4                     Be a small\n",
       "5     Be the founder/leader/boss\n",
       "6     Be the founder/leader/boss\n",
       "7                     Be a small\n",
       "8     Be the founder/leader/boss\n",
       "9     Be the founder/leader/boss\n",
       "10    Be the founder/leader/boss\n",
       "11    Be the founder/leader/boss\n",
       "12                    Be a small\n",
       "Name: SmlOrgLrgOrg, dtype: object"
      ]
     },
     "execution_count": 112,
     "metadata": {},
     "output_type": "execute_result"
    }
   ],
   "source": [
    "# i guess this will do\n",
    "Responses.SmlOrgLrgOrg"
   ]
  },
  {
   "cell_type": "code",
   "execution_count": 113,
   "id": "4f085e63-dfaa-469c-a5a6-f8aa1a1b3bfd",
   "metadata": {},
   "outputs": [],
   "source": [
    "# figure out if there were any completely identical entries\n"
   ]
  },
  {
   "cell_type": "code",
   "execution_count": 114,
   "id": "aee36f1c-084d-4460-85db-dc6e68434095",
   "metadata": {},
   "outputs": [],
   "source": [
    "# edit to test commmit"
   ]
  },
  {
   "cell_type": "code",
   "execution_count": 115,
   "id": "740c7599-86c9-43ac-8ec5-c4e7a924ac6d",
   "metadata": {},
   "outputs": [
    {
     "data": {
      "text/plain": [
       "'Be a small'"
      ]
     },
     "execution_count": 115,
     "metadata": {},
     "output_type": "execute_result"
    }
   ],
   "source": [
    "# how would I try to ask if entry number 5 answered founder or small part?\n",
    "Responses.SmlOrgLrgOrg[4] "
   ]
  },
  {
   "cell_type": "code",
   "execution_count": 116,
   "id": "0e6f7e2a-2076-45f4-952e-7da6f99e188c",
   "metadata": {},
   "outputs": [
    {
     "data": {
      "text/plain": [
       "'Be a small = Go'"
      ]
     },
     "execution_count": 116,
     "metadata": {},
     "output_type": "execute_result"
    }
   ],
   "source": [
    "Responses.SmlOrgLrgOrg[4] + \" = \" + Responses.SpaceEarth[4]"
   ]
  },
  {
   "cell_type": "code",
   "execution_count": 117,
   "id": "bb197cdf-f1de-4255-8f37-484568537daf",
   "metadata": {
    "scrolled": true
   },
   "outputs": [
    {
     "data": {
      "text/html": [
       "<div>\n",
       "<style scoped>\n",
       "    .dataframe tbody tr th:only-of-type {\n",
       "        vertical-align: middle;\n",
       "    }\n",
       "\n",
       "    .dataframe tbody tr th {\n",
       "        vertical-align: top;\n",
       "    }\n",
       "\n",
       "    .dataframe thead th {\n",
       "        text-align: right;\n",
       "    }\n",
       "</style>\n",
       "<table border=\"1\" class=\"dataframe\">\n",
       "  <thead>\n",
       "    <tr style=\"text-align: right;\">\n",
       "      <th></th>\n",
       "      <th>Timestamp</th>\n",
       "      <th>The world is ending and everyone on Earth will die for sure. There is a spaceship going to Mars to start a new Earth with limited invite only tickets. You are offered a ticket. Do you:</th>\n",
       "      <th>Would you rather</th>\n",
       "      <th>Wednesday’s noon meeting has been moved forward by two hours. When is the meeting?</th>\n",
       "      <th>You have a deadline coming up and are working alone. How do you manage your time?</th>\n",
       "      <th>Would you rather.1</th>\n",
       "      <th>You have to time travel now. You will not have any of your existing memory once you land. Would you rather go</th>\n",
       "      <th>Do you want to know how you will die</th>\n",
       "      <th>Which class do you prefer</th>\n",
       "      <th>Are you a</th>\n",
       "      <th>SpaceEarth</th>\n",
       "      <th>SmlOrgLrgOrg</th>\n",
       "    </tr>\n",
       "  </thead>\n",
       "  <tbody>\n",
       "    <tr>\n",
       "      <th>2</th>\n",
       "      <td>16/11/2023 11:41:00</td>\n",
       "      <td>Stay on Earth and accept your fate</td>\n",
       "      <td>Be a small player in a large company/organization</td>\n",
       "      <td>10 am</td>\n",
       "      <td>Work different hours everyday and schedule you...</td>\n",
       "      <td>Explore space</td>\n",
       "      <td>Forwards</td>\n",
       "      <td>Yes</td>\n",
       "      <td>Unreal Engine</td>\n",
       "      <td>Cat person</td>\n",
       "      <td>Stay</td>\n",
       "      <td>Be a small</td>\n",
       "    </tr>\n",
       "    <tr>\n",
       "      <th>6</th>\n",
       "      <td>16/11/2023 12:01:01</td>\n",
       "      <td>Stay on Earth and accept your fate</td>\n",
       "      <td>Be the founder/leader/boss of a small company/...</td>\n",
       "      <td>10 am</td>\n",
       "      <td>Work different hours everyday and schedule you...</td>\n",
       "      <td>Explore space</td>\n",
       "      <td>Backwards</td>\n",
       "      <td>No</td>\n",
       "      <td>Unreal Engine</td>\n",
       "      <td>Dog person</td>\n",
       "      <td>Stay</td>\n",
       "      <td>Be the founder/leader/boss</td>\n",
       "    </tr>\n",
       "    <tr>\n",
       "      <th>7</th>\n",
       "      <td>16/11/2023 12:08:04</td>\n",
       "      <td>Stay on Earth and accept your fate</td>\n",
       "      <td>Be a small player in a large company/organization</td>\n",
       "      <td>2 pm</td>\n",
       "      <td>Work different hours everyday and schedule you...</td>\n",
       "      <td>Explore the deep ocean</td>\n",
       "      <td>Forwards</td>\n",
       "      <td>Yes</td>\n",
       "      <td>Unreal Engine</td>\n",
       "      <td>Cat person</td>\n",
       "      <td>Stay</td>\n",
       "      <td>Be a small</td>\n",
       "    </tr>\n",
       "    <tr>\n",
       "      <th>11</th>\n",
       "      <td>16/11/2023 13:33:18</td>\n",
       "      <td>Stay on Earth and accept your fate</td>\n",
       "      <td>Be the founder/leader/boss of a small company/...</td>\n",
       "      <td>10 am</td>\n",
       "      <td>Work 9 - 5 everyday and do your other activiti...</td>\n",
       "      <td>Explore space</td>\n",
       "      <td>Forwards</td>\n",
       "      <td>No</td>\n",
       "      <td>Unreal Engine</td>\n",
       "      <td>Cat person</td>\n",
       "      <td>Stay</td>\n",
       "      <td>Be the founder/leader/boss</td>\n",
       "    </tr>\n",
       "  </tbody>\n",
       "</table>\n",
       "</div>"
      ],
      "text/plain": [
       "              Timestamp  \\\n",
       "2   16/11/2023 11:41:00   \n",
       "6   16/11/2023 12:01:01   \n",
       "7   16/11/2023 12:08:04   \n",
       "11  16/11/2023 13:33:18   \n",
       "\n",
       "   The world is ending and everyone on Earth will die for sure. There is a spaceship going to Mars to start a new Earth with limited invite only tickets. You are offered a ticket. Do you:  \\\n",
       "2                  Stay on Earth and accept your fate                                                                                                                                         \n",
       "6                  Stay on Earth and accept your fate                                                                                                                                         \n",
       "7                  Stay on Earth and accept your fate                                                                                                                                         \n",
       "11                 Stay on Earth and accept your fate                                                                                                                                         \n",
       "\n",
       "                                     Would you rather  \\\n",
       "2   Be a small player in a large company/organization   \n",
       "6   Be the founder/leader/boss of a small company/...   \n",
       "7   Be a small player in a large company/organization   \n",
       "11  Be the founder/leader/boss of a small company/...   \n",
       "\n",
       "   Wednesday’s noon meeting has been moved forward by two hours. When is the meeting?  \\\n",
       "2                                               10 am                                   \n",
       "6                                               10 am                                   \n",
       "7                                                2 pm                                   \n",
       "11                                              10 am                                   \n",
       "\n",
       "   You have a deadline coming up and are working alone. How do you manage your time?  \\\n",
       "2   Work different hours everyday and schedule you...                                  \n",
       "6   Work different hours everyday and schedule you...                                  \n",
       "7   Work different hours everyday and schedule you...                                  \n",
       "11  Work 9 - 5 everyday and do your other activiti...                                  \n",
       "\n",
       "        Would you rather.1  \\\n",
       "2            Explore space   \n",
       "6            Explore space   \n",
       "7   Explore the deep ocean   \n",
       "11           Explore space   \n",
       "\n",
       "   You have to time travel now. You will not have any of your existing memory once you land. Would you rather go  \\\n",
       "2                                            Forwards                                                              \n",
       "6                                           Backwards                                                              \n",
       "7                                            Forwards                                                              \n",
       "11                                           Forwards                                                              \n",
       "\n",
       "   Do you want to know how you will die Which class do you prefer  Are you a   \\\n",
       "2                                   Yes             Unreal Engine  Cat person   \n",
       "6                                    No             Unreal Engine  Dog person   \n",
       "7                                   Yes             Unreal Engine  Cat person   \n",
       "11                                   No             Unreal Engine  Cat person   \n",
       "\n",
       "   SpaceEarth                SmlOrgLrgOrg  \n",
       "2        Stay                  Be a small  \n",
       "6        Stay  Be the founder/leader/boss  \n",
       "7        Stay                  Be a small  \n",
       "11       Stay  Be the founder/leader/boss  "
      ]
     },
     "execution_count": 117,
     "metadata": {},
     "output_type": "execute_result"
    }
   ],
   "source": [
    "stay_on_earth = Responses[Responses['SpaceEarth'] == 'Stay']\n",
    "stay_on_earth"
   ]
  },
  {
   "cell_type": "code",
   "execution_count": 201,
   "id": "4d24634c-1a16-4e87-9138-f7cdd7cafd6b",
   "metadata": {},
   "outputs": [],
   "source": [
    "earth_and_fsmallorg = len(Responses[(Responses['SpaceEarth'] == 'Stay') & (Responses['SmlOrgLrgOrg'] == 'Be the founder/leader/boss')])\n",
    "earth_and_slargeorg = len(Responses[(Responses['SpaceEarth'] == 'Stay') & (Responses['SmlOrgLrgOrg'] == 'Be a small')])\n",
    "space_and_fsmallorg = len(Responses[(Responses['SpaceEarth'] == 'Go') & (Responses['SmlOrgLrgOrg'] == 'Be the founder/leader/boss')])\n",
    "space_and_slargeorg = len(Responses[(Responses['SpaceEarth'] == 'Go') & (Responses['SmlOrgLrgOrg'] == 'Be a small')])\n",
    "\n"
   ]
  },
  {
   "cell_type": "code",
   "execution_count": 202,
   "id": "51b252b4-fea5-40f7-8171-cce9c86a1334",
   "metadata": {},
   "outputs": [
    {
     "data": {
      "text/plain": [
       "2"
      ]
     },
     "execution_count": 202,
     "metadata": {},
     "output_type": "execute_result"
    }
   ],
   "source": [
    "earth_and_fsmallorg"
   ]
  },
  {
   "cell_type": "code",
   "execution_count": 156,
   "id": "e82e00ed-14d8-41d9-b289-597de92cf190",
   "metadata": {},
   "outputs": [],
   "source": [
    "newdict = { 'responses': [\"earth_and_fsmallorg\",  \"earth_and_slargeorg\"], 'quantities' : [earth_and_fsmallorg, earth_and_slargeorg]}\n",
    "newdf = pd.DataFrame.from_dict(newdict, orient='columns')"
   ]
  },
  {
   "cell_type": "code",
   "execution_count": 157,
   "id": "4857183e-ce5c-464b-b7bd-1e058e37f4bf",
   "metadata": {},
   "outputs": [
    {
     "data": {
      "text/html": [
       "<div>\n",
       "<style scoped>\n",
       "    .dataframe tbody tr th:only-of-type {\n",
       "        vertical-align: middle;\n",
       "    }\n",
       "\n",
       "    .dataframe tbody tr th {\n",
       "        vertical-align: top;\n",
       "    }\n",
       "\n",
       "    .dataframe thead th {\n",
       "        text-align: right;\n",
       "    }\n",
       "</style>\n",
       "<table border=\"1\" class=\"dataframe\">\n",
       "  <thead>\n",
       "    <tr style=\"text-align: right;\">\n",
       "      <th></th>\n",
       "      <th>responses</th>\n",
       "      <th>quantities</th>\n",
       "    </tr>\n",
       "  </thead>\n",
       "  <tbody>\n",
       "    <tr>\n",
       "      <th>0</th>\n",
       "      <td>earth_and_fsmallorg</td>\n",
       "      <td>2</td>\n",
       "    </tr>\n",
       "    <tr>\n",
       "      <th>1</th>\n",
       "      <td>earth_and_slargeorg</td>\n",
       "      <td>2</td>\n",
       "    </tr>\n",
       "  </tbody>\n",
       "</table>\n",
       "</div>"
      ],
      "text/plain": [
       "             responses  quantities\n",
       "0  earth_and_fsmallorg           2\n",
       "1  earth_and_slargeorg           2"
      ]
     },
     "execution_count": 157,
     "metadata": {},
     "output_type": "execute_result"
    }
   ],
   "source": [
    "newdf"
   ]
  },
  {
   "cell_type": "code",
   "execution_count": 153,
   "id": "fe85ff5b-8a0d-48ba-a35a-d7b215d9dfe4",
   "metadata": {},
   "outputs": [
    {
     "data": {
      "text/html": [
       "<div>\n",
       "<style scoped>\n",
       "    .dataframe tbody tr th:only-of-type {\n",
       "        vertical-align: middle;\n",
       "    }\n",
       "\n",
       "    .dataframe tbody tr th {\n",
       "        vertical-align: top;\n",
       "    }\n",
       "\n",
       "    .dataframe thead th {\n",
       "        text-align: right;\n",
       "    }\n",
       "</style>\n",
       "<table border=\"1\" class=\"dataframe\">\n",
       "  <thead>\n",
       "    <tr style=\"text-align: right;\">\n",
       "      <th></th>\n",
       "      <th>Timestamp</th>\n",
       "      <th>The world is ending and everyone on Earth will die for sure. There is a spaceship going to Mars to start a new Earth with limited invite only tickets. You are offered a ticket. Do you:</th>\n",
       "      <th>Would you rather</th>\n",
       "      <th>Wednesday’s noon meeting has been moved forward by two hours. When is the meeting?</th>\n",
       "      <th>You have a deadline coming up and are working alone. How do you manage your time?</th>\n",
       "      <th>Would you rather.1</th>\n",
       "      <th>You have to time travel now. You will not have any of your existing memory once you land. Would you rather go</th>\n",
       "      <th>Do you want to know how you will die</th>\n",
       "      <th>Which class do you prefer</th>\n",
       "      <th>Are you a</th>\n",
       "      <th>SpaceEarth</th>\n",
       "      <th>SmlOrgLrgOrg</th>\n",
       "    </tr>\n",
       "  </thead>\n",
       "  <tbody>\n",
       "    <tr>\n",
       "      <th>2</th>\n",
       "      <td>16/11/2023 11:41:00</td>\n",
       "      <td>Stay on Earth and accept your fate</td>\n",
       "      <td>Be a small player in a large company/organization</td>\n",
       "      <td>10 am</td>\n",
       "      <td>Work different hours everyday and schedule you...</td>\n",
       "      <td>Explore space</td>\n",
       "      <td>Forwards</td>\n",
       "      <td>Yes</td>\n",
       "      <td>Unreal Engine</td>\n",
       "      <td>Cat person</td>\n",
       "      <td>Stay</td>\n",
       "      <td>Be a small</td>\n",
       "    </tr>\n",
       "    <tr>\n",
       "      <th>7</th>\n",
       "      <td>16/11/2023 12:08:04</td>\n",
       "      <td>Stay on Earth and accept your fate</td>\n",
       "      <td>Be a small player in a large company/organization</td>\n",
       "      <td>2 pm</td>\n",
       "      <td>Work different hours everyday and schedule you...</td>\n",
       "      <td>Explore the deep ocean</td>\n",
       "      <td>Forwards</td>\n",
       "      <td>Yes</td>\n",
       "      <td>Unreal Engine</td>\n",
       "      <td>Cat person</td>\n",
       "      <td>Stay</td>\n",
       "      <td>Be a small</td>\n",
       "    </tr>\n",
       "  </tbody>\n",
       "</table>\n",
       "</div>"
      ],
      "text/plain": [
       "             Timestamp  \\\n",
       "2  16/11/2023 11:41:00   \n",
       "7  16/11/2023 12:08:04   \n",
       "\n",
       "  The world is ending and everyone on Earth will die for sure. There is a spaceship going to Mars to start a new Earth with limited invite only tickets. You are offered a ticket. Do you:  \\\n",
       "2                 Stay on Earth and accept your fate                                                                                                                                         \n",
       "7                 Stay on Earth and accept your fate                                                                                                                                         \n",
       "\n",
       "                                    Would you rather  \\\n",
       "2  Be a small player in a large company/organization   \n",
       "7  Be a small player in a large company/organization   \n",
       "\n",
       "  Wednesday’s noon meeting has been moved forward by two hours. When is the meeting?  \\\n",
       "2                                              10 am                                   \n",
       "7                                               2 pm                                   \n",
       "\n",
       "  You have a deadline coming up and are working alone. How do you manage your time?  \\\n",
       "2  Work different hours everyday and schedule you...                                  \n",
       "7  Work different hours everyday and schedule you...                                  \n",
       "\n",
       "       Would you rather.1  \\\n",
       "2           Explore space   \n",
       "7  Explore the deep ocean   \n",
       "\n",
       "  You have to time travel now. You will not have any of your existing memory once you land. Would you rather go  \\\n",
       "2                                           Forwards                                                              \n",
       "7                                           Forwards                                                              \n",
       "\n",
       "  Do you want to know how you will die Which class do you prefer  Are you a   \\\n",
       "2                                  Yes             Unreal Engine  Cat person   \n",
       "7                                  Yes             Unreal Engine  Cat person   \n",
       "\n",
       "  SpaceEarth SmlOrgLrgOrg  \n",
       "2       Stay   Be a small  \n",
       "7       Stay   Be a small  "
      ]
     },
     "execution_count": 153,
     "metadata": {},
     "output_type": "execute_result"
    }
   ],
   "source": []
  },
  {
   "cell_type": "code",
   "execution_count": 255,
   "id": "d2d290e7-aff1-4a52-acfd-ab73c78b10c8",
   "metadata": {},
   "outputs": [
    {
     "data": {
      "text/plain": [
       "Text(0, 0.5, 'Num of CTA ppl')"
      ]
     },
     "execution_count": 255,
     "metadata": {},
     "output_type": "execute_result"
    },
    {
     "data": {
      "image/png": "[encoded data removed]",
      "text/plain": [
       "<Figure size 640x480 with 1 Axes>"
      ]
     },
     "metadata": {},
     "output_type": "display_data"
    }
   ],
   "source": [
    "labels = ['Earth & \\n Founder', 'Earth & \\n Small', 'Space & \\n Founder', 'Space & \\n Small']\n",
    "counts = [earth_and_fsmallorg, earth_and_slargeorg, space_and_fsmallorg, space_and_slargeorg]\n",
    "\n",
    "plt.bar(labels, counts, color=['#7D002F', '#C4034C', '#EC1667', '#FF66A0'])\n",
    "plt.title('Counts of Combinations of SpaceEarth and SmlOrgLrgOrg')\n",
    "plt.xlabel('Combinations')\n",
    "plt.ylabel('Num of CTA ppl')"
   ]
  },
  {
   "cell_type": "code",
   "execution_count": 192,
   "id": "6f43cad2-a13a-4eb4-a67e-f23d14004653",
   "metadata": {},
   "outputs": [],
   "source": [
    "Responses['Meeting'] = Responses['Wednesday’s noon meeting has been moved forward by two hours. When is the meeting?'])"
   ]
  },
  {
   "cell_type": "code",
   "execution_count": 193,
   "id": "b027327e-cf01-405c-9239-4341422d1da1",
   "metadata": {
    "scrolled": true
   },
   "outputs": [
    {
     "data": {
      "text/plain": [
       "0      2 pm\n",
       "1     10 am\n",
       "2     10 am\n",
       "3      2 pm\n",
       "4      2 pm\n",
       "5     10 am\n",
       "6     10 am\n",
       "7      2 pm\n",
       "8     10 am\n",
       "9     10 am\n",
       "10    10 am\n",
       "11    10 am\n",
       "12    10 am\n",
       "Name: Meeting, dtype: object"
      ]
     },
     "execution_count": 193,
     "metadata": {},
     "output_type": "execute_result"
    }
   ],
   "source": [
    "Responses.Meeting"
   ]
  },
  {
   "cell_type": "code",
   "execution_count": 195,
   "id": "c73bcbed-577a-47c5-8bd0-c6e288bf5df7",
   "metadata": {},
   "outputs": [
    {
     "data": {
      "text/plain": [
       "Meeting\n",
       "10 am    9\n",
       "2 pm     4\n",
       "Name: count, dtype: int64"
      ]
     },
     "execution_count": 195,
     "metadata": {},
     "output_type": "execute_result"
    }
   ],
   "source": [
    "# i want to display this as a graph\n",
    "Responses.Meeting.value_counts()"
   ]
  },
  {
   "cell_type": "code",
   "execution_count": 194,
   "id": "124c9287-5280-40cc-b6bf-10eeb4914f62",
   "metadata": {},
   "outputs": [
    {
     "data": {
      "text/plain": [
       "13"
      ]
     },
     "execution_count": 194,
     "metadata": {},
     "output_type": "execute_result"
    }
   ],
   "source": [
    "# didn't work, trying to get the value counts of ppl that chose 2 pm\n",
    "two = len(Responses['Meeting'] == '2 pm')\n",
    "two"
   ]
  },
  {
   "cell_type": "code",
   "execution_count": 281,
   "id": "9281b747-557c-4cc9-b32b-16c3092a71b1",
   "metadata": {},
   "outputs": [],
   "source": [
    "# didnt work\n",
    "# labels = ['Meeting @ 2', 'Meeting @ 10']\n",
    "# counts = [len(Responses.Meeting == '2'),len(Responses.Meeting == '10')]\n",
    "# plt.bar(labels, counts, color=['#6600B2', 'purple'])\n"
   ]
  },
  {
   "cell_type": "code",
   "execution_count": 313,
   "id": "b752ea92-3d33-40f4-9ab1-bb92de7d9d7f",
   "metadata": {},
   "outputs": [
    {
     "data": {
      "image/png": "[encoded data removed]",
      "text/plain": [
       "<Figure size 640x480 with 1 Axes>"
      ]
     },
     "metadata": {},
     "output_type": "display_data"
    }
   ],
   "source": [
    "# more people think 2 hours forward from noon is 10 am than 2 pm \n",
    "# “If you think that it got moved to 2 p.m., that means you have the ego-moving perspective of time,” Brown says. “You see yourself as moving forward through time.”\n",
    "\n",
    "# “If you now think the meeting is at 10 a.m., this means you have the time-moving perspective of time,” Brown continues. “You see yourself as stagnant and as time moving forward towards you.“\n",
    "\n",
    "# How we view time also reflects how we talk about time. For example, if you have an ego-moving perspective of time, you might say things like, “We are approaching the deadline” rather than someone with a time-moving perspective who might say, “The deadline is approaching.”\n",
    "\n",
    "meeting_counts = Responses.Meeting.value_counts()\n",
    "\n",
    "meeting_counts.plot(kind='bar', color=['pink', '#6600B2'])\n",
    "\n",
    "plt.gca().set_facecolor('#F9F1FF')\n",
    "\n",
    "plt.xlabel('Meeting Values')\n",
    "plt.ylabel('Count')\n",
    "plt.title('What People think \"A Meeting Pushed Forward By Two Hours\" means')\n",
    "\n",
    "plt.show()"
   ]
  },
  {
   "cell_type": "code",
   "execution_count": 261,
   "id": "9a6bdd0c-016f-4a94-bbc2-0b6128394ce4",
   "metadata": {},
   "outputs": [
    {
     "data": {
      "text/plain": [
       "0     False\n",
       "1     False\n",
       "2     False\n",
       "3     False\n",
       "4     False\n",
       "5     False\n",
       "6     False\n",
       "7     False\n",
       "8     False\n",
       "9      True\n",
       "10    False\n",
       "11    False\n",
       "12    False\n",
       "dtype: bool"
      ]
     },
     "execution_count": 261,
     "metadata": {},
     "output_type": "execute_result"
    }
   ],
   "source": [
    "# there wasn't a single duplicate response\n",
    "duplicates = Responses.iloc[:, 1:].duplicated()\n",
    "duplicates"
   ]
  },
  {
   "cell_type": "code",
   "execution_count": 262,
   "id": "b6c57ea0-9ccc-4034-9199-cb37d2723a9a",
   "metadata": {},
   "outputs": [],
   "source": [
    "Responses['WorkingHours'] = Responses['You have a deadline coming up and are working alone. How do you manage your time?']"
   ]
  },
  {
   "cell_type": "code",
   "execution_count": 263,
   "id": "de3efd29-855a-4813-b67c-306d6b8a9fb1",
   "metadata": {},
   "outputs": [
    {
     "data": {
      "text/plain": [
       "0     Work 9 - 5 everyday and do your other activiti...\n",
       "1     Work different hours everyday and schedule you...\n",
       "2     Work different hours everyday and schedule you...\n",
       "3     Work different hours everyday and schedule you...\n",
       "4     Work different hours everyday and schedule you...\n",
       "5     Work 9 - 5 everyday and do your other activiti...\n",
       "6     Work different hours everyday and schedule you...\n",
       "7     Work different hours everyday and schedule you...\n",
       "8     Work 9 - 5 everyday and do your other activiti...\n",
       "9     Work 9 - 5 everyday and do your other activiti...\n",
       "10    Work 9 - 5 everyday and do your other activiti...\n",
       "11    Work 9 - 5 everyday and do your other activiti...\n",
       "12    Work different hours everyday and schedule you...\n",
       "Name: WorkingHours, dtype: object"
      ]
     },
     "execution_count": 263,
     "metadata": {},
     "output_type": "execute_result"
    }
   ],
   "source": [
    "Responses.WorkingHours"
   ]
  },
  {
   "cell_type": "code",
   "execution_count": 267,
   "id": "b7bce828-7335-4645-935e-626db06f8936",
   "metadata": {},
   "outputs": [],
   "source": [
    "Responses['WorkingHours'] = Responses['You have a deadline coming up and are working alone. How do you manage your time?'].apply(lambda x: ' '.join(x.split()[:2]))"
   ]
  },
  {
   "cell_type": "code",
   "execution_count": 268,
   "id": "34d613f4-75f5-4073-ae5b-e5fa6fb998af",
   "metadata": {},
   "outputs": [
    {
     "data": {
      "text/plain": [
       "0             Work 9\n",
       "1     Work different\n",
       "2     Work different\n",
       "3     Work different\n",
       "4     Work different\n",
       "5             Work 9\n",
       "6     Work different\n",
       "7     Work different\n",
       "8             Work 9\n",
       "9             Work 9\n",
       "10            Work 9\n",
       "11            Work 9\n",
       "12    Work different\n",
       "Name: WorkingHours, dtype: object"
      ]
     },
     "execution_count": 268,
     "metadata": {},
     "output_type": "execute_result"
    }
   ],
   "source": [
    "Responses.WorkingHours"
   ]
  },
  {
   "cell_type": "code",
   "execution_count": 278,
   "id": "1cf6ad56-050a-47e2-b2e8-25876064c85f",
   "metadata": {},
   "outputs": [],
   "source": [
    "twotime_work95 = len(Responses[(Responses['WorkingHours'] == 'Work 9') & (Responses['Meeting'] == '2 pm')])\n",
    "twotime_workdiff = len(Responses[(Responses['WorkingHours'] == 'Work different') & (Responses['Meeting'] == '2 pm')])\n",
    "tentime_work95 = len(Responses[(Responses['WorkingHours'] == 'Work 9') & (Responses['Meeting'] == '10 am')])\n",
    "tentime_workdiff = len(Responses[(Responses['WorkingHours'] == 'Work different') & (Responses['Meeting'] == '10 am')])"
   ]
  },
  {
   "cell_type": "code",
   "execution_count": 309,
   "id": "848be043-4ecd-4422-ad03-ac36469c1e92",
   "metadata": {},
   "outputs": [
    {
     "data": {
      "text/plain": [
       "Text(0, 0.5, 'Num of CTA ppl')"
      ]
     },
     "execution_count": 309,
     "metadata": {},
     "output_type": "execute_result"
    },
    {
     "data": {
      "image/png": "[encoded data removed]",
      "text/plain": [
       "<Figure size 640x480 with 1 Axes>"
      ]
     },
     "metadata": {},
     "output_type": "display_data"
    }
   ],
   "source": [
    "labels = ['Ego time & \\n 95', 'Ego time & \\n diff', 'Time time & \\n 95', 'Time time & \\n diff']\n",
    "counts = [twotime_work95, twotime_workdiff, tentime_work95, tentime_workdiff]\n",
    "\n",
    "plt.bar(labels, counts, color=['#A1FF94', '#6ACB5D', '#3C8532', '#16540E'])\n",
    "plt.title('Working Hours and Time Perception')\n",
    "plt.xlabel('Combinations')\n",
    "plt.ylabel('Num of CTA ppl')"
   ]
  },
  {
   "cell_type": "code",
   "execution_count": 288,
   "id": "c92ea4c5-540f-468b-a6f5-b0625185b422",
   "metadata": {},
   "outputs": [],
   "source": [
    "Responses['SpaceOcean'] = Responses['Would you rather.1']"
   ]
  },
  {
   "cell_type": "code",
   "execution_count": 289,
   "id": "13e407ce-9cde-4ba6-a19d-57f47780744f",
   "metadata": {},
   "outputs": [
    {
     "data": {
      "text/plain": [
       "0     Explore the deep ocean\n",
       "1              Explore space\n",
       "2              Explore space\n",
       "3              Explore space\n",
       "4              Explore space\n",
       "5              Explore space\n",
       "6              Explore space\n",
       "7     Explore the deep ocean\n",
       "8              Explore space\n",
       "9              Explore space\n",
       "10             Explore space\n",
       "11             Explore space\n",
       "12             Explore space\n",
       "Name: SpaceOcean, dtype: object"
      ]
     },
     "execution_count": 289,
     "metadata": {},
     "output_type": "execute_result"
    }
   ],
   "source": [
    "Responses.SpaceOcean"
   ]
  },
  {
   "cell_type": "code",
   "execution_count": 296,
   "id": "ef9065bc-7a03-4663-a057-2acc0a2ff8bf",
   "metadata": {},
   "outputs": [],
   "source": [
    "SpaceSpace = len(Responses[(Responses['SpaceEarth'] == 'Go') & (Responses['SpaceOcean'] == 'Explore space')])\n",
    "SpaceOcean = len(Responses[(Responses['SpaceEarth'] == 'Go') & (Responses['SpaceOcean'] == 'Explore the deep ocean')])\n",
    "EarthSpace = len(Responses[(Responses['SpaceEarth'] == 'Stay') & (Responses['SpaceOcean'] == 'Explore space')])\n",
    "EarthOcean = len(Responses[(Responses['SpaceEarth'] == 'Stay') & (Responses['SpaceOcean'] == 'Explore the deep ocean')])"
   ]
  },
  {
   "cell_type": "code",
   "execution_count": 310,
   "id": "cfba723f-7eeb-4dec-9984-d633f25b6d83",
   "metadata": {},
   "outputs": [
    {
     "data": {
      "text/plain": [
       "Text(0, 0.5, 'Num of CTA ppl')"
      ]
     },
     "execution_count": 310,
     "metadata": {},
     "output_type": "execute_result"
    },
    {
     "data": {
      "image/png": "[encoded data removed]",
      "text/plain": [
       "<Figure size 640x480 with 1 Axes>"
      ]
     },
     "metadata": {},
     "output_type": "display_data"
    }
   ],
   "source": [
    "labels = ['Go to space \\n explore space', 'Go to space \\n explore ocean', 'Stay on earth \\n explore space', 'Stay on earth \\n explore ocean']\n",
    "counts = [SpaceSpace, SpaceOcean, EarthSpace, EarthOcean]\n",
    "\n",
    "plt.bar(labels, counts, color=['#000000', '#1B3B83', '#688FE7', '#1DD6FF'])\n",
    "plt.title('World ending location & explore location')\n",
    "plt.xlabel('Combinations')\n",
    "plt.ylabel('Num of CTA ppl')"
   ]
  },
  {
   "cell_type": "code",
   "execution_count": 306,
   "id": "5d8fcf22-8f36-44c0-88c0-7596ff394df0",
   "metadata": {},
   "outputs": [],
   "source": [
    "Responses['FavClass'] = Responses['Which class do you prefer']"
   ]
  },
  {
   "cell_type": "code",
   "execution_count": 307,
   "id": "a8d64506-9f52-44d9-9c3a-59a342c55828",
   "metadata": {},
   "outputs": [],
   "source": [
    "unreal_founder = len(Responses[(Responses['FavClass'] == 'Unreal Engine') & (Responses['SmlOrgLrgOrg'] == 'Be the founder/leader/boss')])\n",
    "unreal_small = len(Responses[(Responses['FavClass'] == 'Unreal Engine') & (Responses['SmlOrgLrgOrg'] == 'Be a small')])\n",
    "code_founder = len(Responses[(Responses['FavClass'] == 'Creative Coding') & (Responses['SmlOrgLrgOrg'] == 'Be the founder/leader/boss')])\n",
    "code_small = len(Responses[(Responses['FavClass'] == 'Creative Coding') & (Responses['SmlOrgLrgOrg'] == 'Be a small')])"
   ]
  },
  {
   "cell_type": "code",
   "execution_count": 312,
   "id": "e4b15c47-63ae-4ec4-8365-3a81bc104d2e",
   "metadata": {},
   "outputs": [
    {
     "data": {
      "text/plain": [
       "Text(0, 0.5, 'Num of CTA ppl')"
      ]
     },
     "execution_count": 312,
     "metadata": {},
     "output_type": "execute_result"
    },
    {
     "data": {
      "image/png": "[encoded data removed]",
      "text/plain": [
       "<Figure size 640x480 with 1 Axes>"
      ]
     },
     "metadata": {},
     "output_type": "display_data"
    }
   ],
   "source": [
    "labels = ['Unreal \\n Founder', 'Unreal \\n Small', 'Code \\n Founder', 'Code \\n Small']\n",
    "counts = [unreal_founder, unreal_small, code_founder, code_small]\n",
    "\n",
    "plt.bar(labels, counts, color=['#FF7777', '#FF1D1D', '#B40D0D', '#780202'])\n",
    "plt.title('Favorite Class and Favorite size/role in company')\n",
    "plt.xlabel('Combinations')\n",
    "plt.ylabel('Num of CTA ppl')"
   ]
  },
  {
   "cell_type": "code",
   "execution_count": 314,
   "id": "2410064e-8a57-4d62-ae51-4f17ee3e3de5",
   "metadata": {},
   "outputs": [],
   "source": [
    "Responses['TimeTravel'] = Responses['You have to time travel now. You will not have any of your existing memory once you land. Would you rather go']"
   ]
  },
  {
   "cell_type": "code",
   "execution_count": 319,
   "id": "79081baa-241a-44c5-a4a1-2f9926917176",
   "metadata": {},
   "outputs": [],
   "source": [
    "twotime_forward = len(Responses[(Responses['TimeTravel'] == 'Forwards') & (Responses['Meeting'] == '2 pm')])\n",
    "twotime_backward = len(Responses[(Responses['TimeTravel'] == 'Backwards') & (Responses['Meeting'] == '2 pm')])\n",
    "tentime_forward = len(Responses[(Responses['TimeTravel'] == 'Forwards') & (Responses['Meeting'] == '10 am')])\n",
    "tentime_backward = len(Responses[(Responses['TimeTravel'] == 'Backwards') & (Responses['Meeting'] == '10 am')])"
   ]
  },
  {
   "cell_type": "code",
   "execution_count": 322,
   "id": "6cd8d598-093f-4ee3-b806-b69c5b1fd867",
   "metadata": {},
   "outputs": [
    {
     "data": {
      "text/plain": [
       "Text(0, 0.5, 'Num of CTA ppl')"
      ]
     },
     "execution_count": 322,
     "metadata": {},
     "output_type": "execute_result"
    },
    {
     "data": {
      "image/png": "[encoded data removed]",
      "text/plain": [
       "<Figure size 640x480 with 1 Axes>"
      ]
     },
     "metadata": {},
     "output_type": "display_data"
    }
   ],
   "source": [
    "labels = ['Ego time \\n forward', 'Ego time \\n backward', 'Time time \\n forward', 'Time time \\n backward']\n",
    "counts = [twotime_forward, twotime_backward, tentime_forward, tentime_backward]\n",
    "\n",
    "plt.bar(labels, counts, color=['#A1FF94', '#6ACB5D', '#3C8532', '#16540E'])\n",
    "plt.title('Time Perception and Time Travel')\n",
    "plt.xlabel('Combinations')\n",
    "plt.ylabel('Num of CTA ppl')"
   ]
  },
  {
   "cell_type": "code",
   "execution_count": 323,
   "id": "4ac59d66-93a6-4752-8944-53a940149b2c",
   "metadata": {},
   "outputs": [],
   "source": [
    "Responses['DeathKnowledge'] = Responses['Do you want to know how you will die']"
   ]
  },
  {
   "cell_type": "code",
   "execution_count": 324,
   "id": "a0a41e16-7013-4894-b352-520d13256f41",
   "metadata": {},
   "outputs": [],
   "source": [
    "knowdeath_forward = len(Responses[(Responses['TimeTravel'] == 'Forwards') & (Responses['DeathKnowledge'] == 'Yes')])\n",
    "knowdeath_backward = len(Responses[(Responses['TimeTravel'] == 'Backwards') & (Responses['DeathKnowledge'] == 'Yes')])\n",
    "nodeath_forward = len(Responses[(Responses['TimeTravel'] == 'Forwards') & (Responses['DeathKnowledge'] == 'No')])\n",
    "nodeath_backward = len(Responses[(Responses['TimeTravel'] == 'Backwards') & (Responses['DeathKnowledge'] == 'No')])"
   ]
  },
  {
   "cell_type": "code",
   "execution_count": 332,
   "id": "4a362c57-4852-4fbd-a402-71837dbb424b",
   "metadata": {},
   "outputs": [
    {
     "data": {
      "text/plain": [
       "Text(0, 0.5, 'Num of CTA ppl')"
      ]
     },
     "execution_count": 332,
     "metadata": {},
     "output_type": "execute_result"
    },
    {
     "data": {
      "image/png": "[encoded data removed]",
      "text/plain": [
       "<Figure size 640x480 with 1 Axes>"
      ]
     },
     "metadata": {},
     "output_type": "display_data"
    }
   ],
   "source": [
    "labels = ['Know death \\n forward', 'Know death \\n backward', 'Dont know \\n death & \\n forward', 'Dont know \\n death & \\n backward']\n",
    "counts = [knowdeath_forward, knowdeath_backward, nodeath_forward, nodeath_backward]\n",
    "\n",
    "plt.bar(labels, counts, color=['#1200EC', '#6ACB5D', '#5298F1', '#A668FF'])\n",
    "plt.title('Knowledge of death and Time Travel')\n",
    "plt.xlabel('Combinations')\n",
    "plt.ylabel('Num of CTA ppl')"
   ]
  },
  {
   "cell_type": "code",
   "execution_count": 329,
   "id": "95d5433d-02b3-4c62-9f55-e1f85f20387e",
   "metadata": {},
   "outputs": [],
   "source": [
    "space_forward = len(Responses[(Responses['TimeTravel'] == 'Forwards') & (Responses['SpaceEarth'] == 'Go')])\n",
    "space_backward = len(Responses[(Responses['TimeTravel'] == 'Backwards') & (Responses['SpaceEarth'] == 'Go')])\n",
    "earth_forward = len(Responses[(Responses['TimeTravel'] == 'Forwards') & (Responses['SpaceEarth'] == 'Stay')])\n",
    "earth_backward = len(Responses[(Responses['TimeTravel'] == 'Backwards') & (Responses['SpaceEarth'] == 'Stay')])"
   ]
  },
  {
   "cell_type": "code",
   "execution_count": 331,
   "id": "ddc24ec1-264b-4a18-9108-c945cdd14d7a",
   "metadata": {},
   "outputs": [
    {
     "data": {
      "text/plain": [
       "Text(0, 0.5, 'Num of CTA ppl')"
      ]
     },
     "execution_count": 331,
     "metadata": {},
     "output_type": "execute_result"
    },
    {
     "data": {
      "image/png": "[encoded data removed]",
      "text/plain": [
       "<Figure size 640x480 with 1 Axes>"
      ]
     },
     "metadata": {},
     "output_type": "display_data"
    }
   ],
   "source": [
    "labels = ['Space \\n forward', 'Space \\n backward', 'Earth & \\n forward', 'Earth \\n backward']\n",
    "counts = [space_forward, space_backward, earth_forward, earth_backward]\n",
    "\n",
    "plt.bar(labels, counts, color=['#FFF700', '#FFB200', '#FF4600', '#EC0000'])\n",
    "plt.title('World Ending Location & Time Travel Location')\n",
    "plt.xlabel('Combinations')\n",
    "plt.ylabel('Num of CTA ppl')"
   ]
  },
  {
   "cell_type": "code",
   "execution_count": null,
   "id": "22e04b3e-c5ed-4688-aa56-1b58df009f02",
   "metadata": {},
   "outputs": [],
   "source": []
  }
 ],
 "metadata": {
  "kernelspec": {
   "display_name": "Python 3 (ipykernel)",
   "language": "python",
   "name": "python3"
  },
  "language_info": {
   "codemirror_mode": {
    "name": "ipython",
    "version": 3
   },
   "file_extension": ".py",
   "mimetype": "text/x-python",
   "name": "python",
   "nbconvert_exporter": "python",
   "pygments_lexer": "ipython3",
   "version": "3.12.0"
  }
 },
 "nbformat": 4,
 "nbformat_minor": 5
}
